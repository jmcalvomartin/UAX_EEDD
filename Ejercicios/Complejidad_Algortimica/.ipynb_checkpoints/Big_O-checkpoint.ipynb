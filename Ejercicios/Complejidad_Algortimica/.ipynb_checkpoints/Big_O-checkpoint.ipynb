{
 "cells": [
  {
   "cell_type": "markdown",
   "id": "2b055b79-f1f8-4e04-bb93-4dd3ef9e6301",
   "metadata": {},
   "source": [
    "<!DOCTYPE html>\n",
    "<html>\n",
    "<body>\n",
    "<div align=\"center\">\n",
    "<h3>Jorge Calvo</h3>\n",
    "    \n",
    "<h1>Complejidad Algoritmica</h1>\n",
    "<h3>Big O</h3>\n",
    "    \n",
    "\n",
    "<h3>Sígueme en - <a href=\"https://www.linkedin.com/in/jorgecalvomartin/\">LinkedIn</a>&nbsp; <a href=\"https://twitter.com/jorgemcalvo\">Twitter</a>&nbsp; <a href=\"https://www.europeanvalley.es/noticias/\">Blog</a>&nbsp;</h3>\n",
    "</div>\n",
    "    \n",
    "<a rel=\"license\" href=\"http://creativecommons.org/licenses/by-nc-sa/4.0/\"><img alt=\"Licencia de Creative Commons\" style=\"border-width:0\" src=\"https://i.creativecommons.org/l/by-nc-sa/4.0/88x31.png\" /></a><br />Este obra está bajo una <a rel=\"license\" href=\"http://creativecommons.org/licenses/by-nc-sa/4.0/\">licencia de Creative Commons Reconocimiento-NoComercial-CompartirIgual 4.0 Internacional</a>.\n",
    "    \n",
    "</body>\n",
    "</html>"
   ]
  },
  {
   "cell_type": "markdown",
   "id": "a0aaeabd-ed33-4251-995e-d68284854b61",
   "metadata": {},
   "source": [
    "# Complejidad Algorítmica\n",
    "\n",
    "### Definición\n",
    "La **complejidad algorítmica** se refiere a la medida de la cantidad de recursos computacionales necesarios para ejecutar un algoritmo. Estos recursos pueden ser tiempo de ejecución o espacio de memoria requerido. La complejidad algorítmica se utiliza para evaluar el rendimiento de los algoritmos y determinar su eficiencia en términos de consumo de recursos.\n",
    "\n",
    "La complejidad algorítmica se expresa generalmente en función del tamaño de entrada del algoritmo, denotado como **\"n\"**. La notación **Big O** se utiliza para describir la complejidad algorítmica de manera asintótica, lo que significa que se enfoca en el comportamiento del algoritmo a medida que el tamaño de entrada tiende hacia infinito. \n",
    "\n",
    "#### Ejemplo\n",
    "Un algoritmo con complejidad **O(n)** indica que su tiempo de ejecución aumenta linealmente con el tamaño de entrada. Por otro lado, un algoritmo con complejidad $ O(n^2) $  indica que su tiempo de ejecución aumenta cuadráticamente con el tamaño de entrada. La complejidad algorítmica proporciona una herramienta importante para el análisis y diseño de algoritmos eficientes, permitiendo a los desarrolladores tomar decisiones informadas sobre qué enfoque utilizar para resolver un problema."
   ]
  },
  {
   "cell_type": "markdown",
   "id": "6b8ad63b-a8a0-4f28-8339-aef3c732fd97",
   "metadata": {},
   "source": [
    "## Ejemplos tipos de complejidad\n",
    "\n",
    "### O(1): Constante\n",
    "\n",
    "* Un programa que me diga si un número es par o impar"
   ]
  },
  {
   "cell_type": "code",
   "execution_count": 1,
   "id": "2d5595b3-933a-4bea-a318-addc1f711954",
   "metadata": {},
   "outputs": [
    {
     "name": "stdout",
     "output_type": "stream",
     "text": [
      "Impar\n"
     ]
    }
   ],
   "source": [
    "num=45\n",
    "if num%2==0:\n",
    "  print(\"Par\")\n",
    "else: print(\"Impar\")"
   ]
  },
  {
   "cell_type": "markdown",
   "id": "74da8682-c4fc-400f-b843-26fa2026c0ee",
   "metadata": {},
   "source": [
    "### O(n): Lineal\n",
    "* Un programa que me diga el número más alto de una lista"
   ]
  },
  {
   "cell_type": "code",
   "execution_count": 2,
   "id": "e6989403-f1bd-48d0-b12d-8a490e55ea57",
   "metadata": {},
   "outputs": [
    {
     "name": "stdout",
     "output_type": "stream",
     "text": [
      "[15, 65, 8, 57, 16, 55, 81, 52, 56, 91, 17, 26, 67, 30, 15, 7, 51, 95, 96, 12, 42, 87, 89, 88, 51]\n",
      "El número más alto es  96\n"
     ]
    }
   ],
   "source": [
    "import random\n",
    "\n",
    "#Creamos una lista de 25 elementos con números aleatorios entre 0 y 100\n",
    "lista=[random.randint(0,100) for x in range(0,25)]\n",
    "\n",
    "print(lista)\n",
    "max=lista[0]\n",
    "\n",
    "for x in range (0,len(lista)):\n",
    "  if lista[x]>max:\n",
    "    max=lista[x]\n",
    "print(\"El número más alto es \",max)"
   ]
  },
  {
   "cell_type": "markdown",
   "id": "e4b25852-7271-4591-98a4-576d81668238",
   "metadata": {},
   "source": [
    "### $O(n^2)$: Cuadrático\n",
    "* Un programa que ordena una lista dada"
   ]
  },
  {
   "cell_type": "code",
   "execution_count": 3,
   "id": "089b7386-da7f-4b95-9aa1-209608158484",
   "metadata": {},
   "outputs": [
    {
     "name": "stdout",
     "output_type": "stream",
     "text": [
      "[481, 329, 745, 683, 615, 318, 431, 748, 897, 945, 943, 369, 101, 61, 880, 155, 167, 677, 720, 914]\n",
      "[945, 943, 914, 897, 880, 748, 745, 720, 683, 677, 615, 481, 431, 369, 329, 318, 167, 155, 101, 61]\n"
     ]
    }
   ],
   "source": [
    "import random\n",
    "\n",
    "lista=[random.randint(0,1000) for x in range(0,20)]\n",
    "lista2=[]\n",
    "print(lista)\n",
    "\n",
    "while len(lista)>0:\n",
    "    max=lista[0]\n",
    "    for x in range (0,len(lista)):\n",
    "      if lista[x]>max:\n",
    "        max=lista[x]\n",
    "    lista2.append(max)\n",
    "    lista.remove(max)\n",
    "print(lista2)"
   ]
  },
  {
   "cell_type": "markdown",
   "id": "32acd2c0-7ede-4958-b53d-6929fc938d9f",
   "metadata": {},
   "source": [
    "## Mejorar algortimo: $ O(n) $ Vs $ O(long(n)) $\n",
    "\n",
    "### Indicar la posición de un elemento en una lista ordenada\n",
    "El objetivo de este ejercicio es mejorar el tiempo de computación, es decir la complejidad **(O(n))** de un algortimo para la búsqueda de elementos en una lista ordenada.\n",
    "\n",
    "\n",
    "#### Busqueda Binaria\n",
    "La complejidad de este algoritmo de búsqueda binaria es O(log n) debido a que en cada iteración, el tamaño del rango de búsqueda se reduce a la mitad. Sin embargo, si se realiza la búsqueda en una lista que ya está ordenada, la complejidad final sería O(n log n) porque se deben realizar n comparaciones (número máximo de iteraciones) en total para encontrar el elemento objetivo en la lista ordenada."
   ]
  },
  {
   "cell_type": "code",
   "execution_count": 4,
   "id": "15fb04c1-3980-4edb-a1e5-428e9f7104de",
   "metadata": {},
   "outputs": [
    {
     "name": "stdin",
     "output_type": "stream",
     "text": [
      "Busqueda:  45\n"
     ]
    },
    {
     "name": "stdout",
     "output_type": "stream",
     "text": [
      "Su posición es  41\n",
      "El tiempo del algortimo tradicional  0.0005044937133789062\n",
      "El tiempo del algortimo binario  0.00042510032653808594\n"
     ]
    }
   ],
   "source": [
    "import random\n",
    "import time\n",
    "\n",
    "#Utilizamos random.sample para generar una lista de números únicos dentro de un rango\n",
    "my_list=random.sample(range(0,1000000),900000)\n",
    "#Utilizamos la función sort para ordenar la lista \n",
    "my_list.sort()\n",
    "\n",
    "#print(\"Mi lista ordenada es: \")\n",
    "#print(my_list)\n",
    "search = int(input(\"Busqueda: \"))\n",
    "\n",
    "\n",
    "#Algortimo tradicional\n",
    "\n",
    "iniciar=time.time()\n",
    "\n",
    "for x in range (0,len(my_list)):\n",
    "  if my_list[x]==search:\n",
    "    print(\"Su posición es \", x)\n",
    "    break\n",
    "\n",
    "final=time.time()\n",
    "\n",
    "print(\"El tiempo del algortimo tradicional \", final-iniciar)\n",
    "\n",
    "\n",
    "#Algoritmo Binario\n",
    "primero=0\n",
    "ultimo=len(my_list)\n",
    "mitad=0\n",
    "\n",
    "iniciar=time.time()\n",
    "while primero < ultimo:\n",
    "  mitad = (primero + ultimo) // 2\n",
    "  if my_list[mitad] > search:\n",
    "    ultimo = mitad -1\n",
    "  elif my_list[mitad] < search:\n",
    "    primero = mitad + 1\n",
    "  else:\n",
    "    print(\"La posición es \", mitad)\n",
    "    break\n",
    "final=time.time()\n",
    "\n",
    "print(\"El tiempo del algortimo binario \", final-iniciar)"
   ]
  }
 ],
 "metadata": {
  "kernelspec": {
   "display_name": "Python 3 (ipykernel)",
   "language": "python",
   "name": "python3"
  },
  "language_info": {
   "codemirror_mode": {
    "name": "ipython",
    "version": 3
   },
   "file_extension": ".py",
   "mimetype": "text/x-python",
   "name": "python",
   "nbconvert_exporter": "python",
   "pygments_lexer": "ipython3",
   "version": "3.10.9"
  }
 },
 "nbformat": 4,
 "nbformat_minor": 5
}
