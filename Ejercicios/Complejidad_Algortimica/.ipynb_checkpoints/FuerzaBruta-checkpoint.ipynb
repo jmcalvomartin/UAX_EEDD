{
 "cells": [
  {
   "cell_type": "markdown",
   "id": "f025fc36-bcfa-4eee-b0f9-b04bc7c0b0ad",
   "metadata": {},
   "source": [
    "<!DOCTYPE html>\n",
    "<html>\n",
    "<body>\n",
    "<div align=\"center\">\n",
    "<h3>Jorge Calvo</h3>\n",
    "    \n",
    "<h1>Eficacia y Eficiencia</h1>\n",
    "<h3>Ataques de Fuerza Bruta</h3>\n",
    "    \n",
    "\n",
    "<h3>Sígueme en - <a href=\"https://www.linkedin.com/in/jorgecalvomartin/\">LinkedIn</a>&nbsp; <a href=\"https://twitter.com/jorgemcalvo\">Twitter</a>&nbsp; <a href=\"https://www.europeanvalley.es/noticias/\">Blog</a>&nbsp;</h3>\n",
    "</div>\n",
    "    \n",
    "<a rel=\"license\" href=\"http://creativecommons.org/licenses/by-nc-sa/4.0/\"><img alt=\"Licencia de Creative Commons\" style=\"border-width:0\" src=\"https://i.creativecommons.org/l/by-nc-sa/4.0/88x31.png\" /></a><br />Este obra está bajo una <a rel=\"license\" href=\"http://creativecommons.org/licenses/by-nc-sa/4.0/\">licencia de Creative Commons Reconocimiento-NoComercial-CompartirIgual 4.0 Internacional</a>.\n",
    "    \n",
    "</body>\n",
    "</html>"
   ]
  },
  {
   "cell_type": "markdown",
   "id": "3d1041fb-3c00-45bc-b14b-9e6d9f3eae06",
   "metadata": {},
   "source": [
    "# Ataques de Fuerza Bruta\n",
    "\n",
    "### ***¿Que es un ataque de fuerza bruta?***\n",
    "* Un ataque de fuerza bruta (también conocido como craqueo de fuerza bruta) es el equivalente de un ciberataque a probar todas las teclas de su llavero y, finalmente, encontrar la correcta. \n",
    "\n",
    "* Los ataques de fuerza bruta son simples y confiables. Los atacantes dejan que una computadora haga el trabajo, probando diferentes combinaciones de nombres de usuario y contraseñas, por ejemplo, hasta que encuentran una que funciona. Detectar y neutralizar un ataque de fuerza bruta en curso es el mejor contraataque: una vez que los atacantes tienen acceso a la red, son mucho más difíciles de atrapar.\n",
    "\n",
    "#### ***Tipos de ataques***\n",
    "* El ataque de fuerza bruta más básico es un ataque de diccionario, donde el atacante trabaja a través de un diccionario de posibles contraseñas y las prueba todas. Los ataques de diccionario comienzan con algunas suposiciones sobre contraseñas comunes para tratar de adivinar de la lista del diccionario. \n",
    "* El reciclaje de credenciales es otro tipo de ataque de fuerza bruta que reutiliza nombres de usuario y contraseñas de otras filtraciones de datos para intentar ingresar a otros sistemas.\n",
    "* El ataque de fuerza bruta inversa utiliza una contraseña común como \"contraseña\" y, posteriormente, intenta forzar un nombre de usuario para que vaya con esa contraseña. Dado que la contraseña es una de las contraseñas más comunes en 2017, esta técnica es más exitosa de lo que cree.\n",
    "\n",
    "#### ***Defensa de los ataques de Fuerza Bruta***\n",
    "* Aumentar la longitud de la contraseña: más caracteres equivalen a más tiempo para romper la fuerza bruta\n",
    "* Aumente la complejidad de la contraseña: más opciones para cada personaje también aumentan el tiempo para el crack de fuerza bruta\n",
    "* Limite los intentos de inicio de sesión: los ataques de fuerza bruta incrementan un contador de intentos de inicio de sesión fallidos en la mayoría de los servicios de directorio; una buena defensa contra los ataques de fuerza bruta es bloquear a los usuarios después de algunos intentos fallidos, anulando así un ataque de fuerza bruta en curso\n",
    "* Implementar Captcha: Captcha es un sistema común para verificar que un humano es humano en sitios web y puede detener los ataques de fuerza bruta en curso.\n",
    "* Utilice la autenticación de múltiples factores: la autenticación de múltiples factores agrega una segunda capa de seguridad a cada intento de inicio de sesión que requiera la intervención humana, lo que puede detener el éxito de un ataque de fuerza bruta"
   ]
  },
  {
   "cell_type": "markdown",
   "id": "2f696350-9e0c-496c-b3c1-509f4c86050c",
   "metadata": {},
   "source": [
    "### Ejemplo 1\n",
    "Ataque de fuerza bruta sobre un código PIN de 4 números\n",
    "En este ejercicio realizamos la busqueda del número PIN usando la aleatoriedad del comando randint, generando números aleatorios entre 0 y 9999.\n",
    "<br>\n",
    "\n",
    "#### Desventajas\n",
    "* Controlar que la longitud de nuestro número aleatorio, debe ser 4\n",
    "* No controlamos los valores repétidos"
   ]
  },
  {
   "cell_type": "markdown",
   "id": "98a44825-ae2d-46a3-981d-5dbbdfff4e86",
   "metadata": {},
   "source": [
    "### Alternativa de Hackear PIN controlando valores repetidos\n",
    "\n",
    "* Creamos una lista de números **únicos** entre 0 y 9999\n",
    "* Buscamos en esa lista uno por uno desde el principio hasta que coincida con el PIN introducido por el usuario.\n",
    "* Comprobamos tiempos con ambos programas\n",
    "* ¿Merece la pena ordenar la lista? \n",
    "\n",
    "**Como crear esa lista**\n",
    "```\n",
    "hack_l=random.sample(range(0,9999),9999)\n",
    "print(hack_l[0:20]) #imprimimos los primeros 20 números para comprobar\n",
    "\n",
    "```"
   ]
  },
  {
   "cell_type": "code",
   "execution_count": null,
   "id": "126c0849-761e-4a38-9307-b8a3ad48ae95",
   "metadata": {},
   "outputs": [],
   "source": [
    "import random\n",
    "import time\n",
    "\n",
    "password= str(input(\"Introduce tu PIN de 4 digitos: \"))\n",
    "hack=random.sample(range(0,9999),9999)\n",
    "\n",
    "for x in hack:\n",
    "    x=str(x) #Conviertes el núemro aleatorio en formato texto \n",
    "    if len(x)!=4: #Si veo que el numero generado tiene menos de 4 cifras, le añado ceros hasta completar las 4 cifras\n",
    "            if (\"0\"*(4 - len(x)) + x == password): #Multiplico el cero por el número de cifras que le falten hasta completar 4\n",
    "              print(\"Tu PIN es \" + x)\n",
    "              break  \n",
    "    elif (x==password): #Si lo encuentra lo imprime\n",
    "            print(\"Tu PIN es \" + x)\n",
    "            break\n",
    "\n",
    "    else: continue #Si no coincide continuo\n",
    "  \n",
    "fin = time.time()\n",
    "\n",
    "print(\"Tu programa ha tardado \" + str(fin-inicio) + \" segundos\")"
   ]
  }
 ],
 "metadata": {
  "kernelspec": {
   "display_name": "Python 3 (ipykernel)",
   "language": "python",
   "name": "python3"
  },
  "language_info": {
   "codemirror_mode": {
    "name": "ipython",
    "version": 3
   },
   "file_extension": ".py",
   "mimetype": "text/x-python",
   "name": "python",
   "nbconvert_exporter": "python",
   "pygments_lexer": "ipython3",
   "version": "3.10.9"
  }
 },
 "nbformat": 4,
 "nbformat_minor": 5
}
