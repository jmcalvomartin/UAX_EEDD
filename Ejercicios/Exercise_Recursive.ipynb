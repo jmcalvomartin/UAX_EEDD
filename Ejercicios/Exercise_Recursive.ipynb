{
 "cells": [
  {
   "cell_type": "markdown",
   "id": "b7a9ca5c-717c-441c-88f1-f12b81a09411",
   "metadata": {
    "tags": []
   },
   "source": [
    "## 1. Suma de números\n",
    "Debemos realizar una función en Python a la cual le pase 1 parametro. La función me debe devolver el resultado de sumar todos los números inferiores a él (inlcuido el mismo).\n",
    "Realizaremos dos funciones, una sin recursividad y otra con recursividad.\n",
    "\n",
    "#### Ejemplo\n",
    "$sum(5)=5 + 4  +3 +2 +1+0 = 5 + sum(4) $\n",
    "\n",
    "## 2. Suma Fraccionaria\n",
    "Realizaremos dos funciones, una sin recursividad y otra con recursividad.\n",
    "\n",
    "$frac(5)= 1 + \\frac{1}{2} \\frac{1}{3} \\frac{1}{4} \\frac{1}{5} $\n",
    "\n",
    "## 3. Potencias\n",
    "Debemos realizar una función en Python a la cual le pase dos parametros (x,y), uno de ellos es la base y el otro el exponente. La función me debe devolver el resultado de esa potencia.\n",
    "Realizaremos dos funciones, una sin recursividad y otra con recursividad.\n",
    "\n",
    "### Ejemplo\n",
    "$ 5^3 = 5 . 5^2 $\n",
    "\n",
    "## 4. Suma de números primos\n",
    "Manteniendo la estructura del ejercicio uno, solo sumar los números que sean primos\n",
    "\n",
    "## 5. El máximo común divisor.\n",
    "Debemos realizar una función en Python a la cual le pase dos parametros (x,y) y nos de el máximo comun divisor de ambos números (comunes de menor exponente)\n",
    "Realizaremos dos funciones, una sin recursividad y otra con recursividad."
   ]
  },
  {
   "cell_type": "code",
   "execution_count": 2,
   "id": "4e044952-a768-410d-8cf7-8cc9363d85b8",
   "metadata": {},
   "outputs": [
    {
     "name": "stdout",
     "output_type": "stream",
     "text": [
      "1307674368000\n",
      "1307674368000\n"
     ]
    }
   ],
   "source": [
    "#Recursividad\n",
    "\n",
    "#Función Factorial sin recursividad\n",
    "def factorial(n):\n",
    "    if n==0:\n",
    "        return print(1)\n",
    "    for x in range (1,n):\n",
    "        n=n*x\n",
    "    return print(n)\n",
    "\n",
    "factorial(15)\n",
    "\n",
    "#Funcion Factorial con recursividad\n",
    "def factorial_r(n):\n",
    "    if (n==0) or (n==1):\n",
    "        return 1\n",
    "    else:\n",
    "        return n*factorial_r(n-1)\n",
    "\n",
    "print(factorial_r(15))"
   ]
  },
  {
   "cell_type": "code",
   "execution_count": 5,
   "id": "86af41b0-9e11-4a1f-83c2-22c698d6d4a2",
   "metadata": {},
   "outputs": [
    {
     "name": "stdout",
     "output_type": "stream",
     "text": [
      "89\n",
      "89\n"
     ]
    }
   ],
   "source": [
    "#Fibonnaci sin recursividad\n",
    "def fibonacci(n):\n",
    "    f=[0,1]\n",
    "    r=0\n",
    "    for x in range (0,n-1):\n",
    "        r=f[x]+f[x+1]\n",
    "        f.append(r)\n",
    "    return print(f[n])\n",
    "\n",
    "fibonacci(11)\n",
    "\n",
    "#Fibonacci con REcursividad\n",
    "def fibonacci_r(n):\n",
    "    if n==0:\n",
    "        return 0\n",
    "    if n==1:\n",
    "        return 1\n",
    "    else:\n",
    "        return fibonacci_r(n-1)+fibonacci_r(n-2)\n",
    "\n",
    "print(fibonacci_r(11))"
   ]
  },
  {
   "cell_type": "code",
   "execution_count": 6,
   "id": "18f72f35-aad6-4deb-a0b0-5c7b07a2db13",
   "metadata": {},
   "outputs": [
    {
     "name": "stdout",
     "output_type": "stream",
     "text": [
      "2.5928571428571425\n",
      "2.083333333333333\n"
     ]
    }
   ],
   "source": [
    "def harmonic_sum(n):\n",
    "  if n < 2:\n",
    "    return 1\n",
    "  else:\n",
    "    return 1 / n + (harmonic_sum(n - 1))\n",
    "    \n",
    "print(harmonic_sum(7))\n",
    "print(harmonic_sum(4))"
   ]
  },
  {
   "cell_type": "code",
   "execution_count": 7,
   "id": "78e7da05-1f7d-475b-a35c-9da9783d89ef",
   "metadata": {},
   "outputs": [
    {
     "name": "stdout",
     "output_type": "stream",
     "text": [
      "21\n"
     ]
    }
   ],
   "source": [
    "def recursive_list_sum(data_list):\n",
    "\ttotal = 0\n",
    "\tfor element in data_list:\n",
    "\t\tif type(element) == type([]):\n",
    "\t\t\ttotal = total + recursive_list_sum(element)\n",
    "\t\telse:\n",
    "\t\t\ttotal = total + element\n",
    "\n",
    "\treturn total\n",
    "print( recursive_list_sum([1, 2, [3,4],[5,6]]))"
   ]
  },
  {
   "cell_type": "code",
   "execution_count": 9,
   "id": "9a32d6c3-2a95-451e-9d36-997393e24689",
   "metadata": {},
   "outputs": [
    {
     "name": "stdout",
     "output_type": "stream",
     "text": [
      "15\n",
      "55\n"
     ]
    }
   ],
   "source": [
    "def sumDigits(n):\n",
    "  if n == 0:\n",
    "    return 0\n",
    "  else:\n",
    "    return n + sumDigits(n-1)\n",
    "\n",
    "print(sumDigits(5))\n",
    "print(sumDigits(10))"
   ]
  },
  {
   "cell_type": "code",
   "execution_count": 16,
   "id": "72ecb827-a0d5-4a99-a423-2538aedf50ca",
   "metadata": {},
   "outputs": [
    {
     "name": "stdout",
     "output_type": "stream",
     "text": [
      "3\n"
     ]
    }
   ],
   "source": [
    "def Recurgcd(a, b):\n",
    "\tlow = min(a, b)\n",
    "\thigh = max(a, b)\n",
    "\n",
    "\tif low == 0:\n",
    "\t\treturn high\n",
    "\telif low == 1:\n",
    "\t\treturn 1\n",
    "\telse:\n",
    "\t\treturn Recurgcd(low, high%low)\n",
    "print(Recurgcd(9,6))"
   ]
  }
 ],
 "metadata": {
  "kernelspec": {
   "display_name": "Python 3 (ipykernel)",
   "language": "python",
   "name": "python3"
  },
  "language_info": {
   "codemirror_mode": {
    "name": "ipython",
    "version": 3
   },
   "file_extension": ".py",
   "mimetype": "text/x-python",
   "name": "python",
   "nbconvert_exporter": "python",
   "pygments_lexer": "ipython3",
   "version": "3.9.12"
  }
 },
 "nbformat": 4,
 "nbformat_minor": 5
}
